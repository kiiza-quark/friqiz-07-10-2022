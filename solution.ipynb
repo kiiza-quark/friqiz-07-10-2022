{
 "cells": [
  {
   "cell_type": "code",
   "execution_count": 9,
   "metadata": {},
   "outputs": [],
   "source": [
    "import requests\n",
    "from bs4 import BeautifulSoup\n",
    "\n",
    "data = requests.get('https://docs.google.com/forms/d/e/1FAIpQLSfXdf6ArtxPRad85c6dSbF13CYj1OPZq9Q_nUng1nqpak11sw/viewform')\n",
    "\n",
    "html_data = BeautifulSoup(data.content, 'html.parser')\n",
    "\n",
    "#scraping the quiz website\n",
    "questions = html_data.find('div',class_='Qr7Oae')\n",
    "questions1 = html_data.find('div',class_='CP1oW')\n",
    "questions2 = html_data.find('div',class_='geS5n')\n",
    "questions3 = html_data.find('div',class_='oyXaNc')\n",
    "questions4 = html_data.find('div',class_='')\n",
    "answers = questions3.find_all('p')\n",
    "\n",
    "with open('answers.txt', 'w') as f:    \n",
    "    f.write('all answers will be written here')\n",
    "\n"
   ]
  }
 ],
 "metadata": {
  "kernelspec": {
   "display_name": "Python 3.10.7 64-bit",
   "language": "python",
   "name": "python3"
  },
  "language_info": {
   "codemirror_mode": {
    "name": "ipython",
    "version": 3
   },
   "file_extension": ".py",
   "mimetype": "text/x-python",
   "name": "python",
   "nbconvert_exporter": "python",
   "pygments_lexer": "ipython3",
   "version": "3.10.7"
  },
  "orig_nbformat": 4,
  "vscode": {
   "interpreter": {
    "hash": "df95319d8ce4e1d89f5365ae10992bc1f65da593082b1d264e8f529830ec2f02"
   }
  }
 },
 "nbformat": 4,
 "nbformat_minor": 2
}
